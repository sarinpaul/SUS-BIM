{
  "nbformat": 4,
  "nbformat_minor": 0,
  "metadata": {
    "colab": {
      "provenance": [],
      "toc_visible": true,
      "include_colab_link": true
    },
    "kernelspec": {
      "name": "python3",
      "display_name": "Python 3"
    },
    "language_info": {
      "name": "python"
    }
  },
  "cells": [
    {
      "cell_type": "markdown",
      "metadata": {
        "id": "view-in-github",
        "colab_type": "text"
      },
      "source": [
        "<a href=\"https://colab.research.google.com/github/sarinpaul/SUS-BIM/blob/main/ifcopenshell_colab.ipynb\" target=\"_parent\"><img src=\"https://colab.research.google.com/assets/colab-badge.svg\" alt=\"Open In Colab\"/></a>"
      ]
    },
    {
      "cell_type": "markdown",
      "source": [
        "# ifcopenshell-colab\n",
        "\n",
        "Let's start by installing IfcOpenShell. In addition, here are some other libraries that you might find useful. Lark helps parse custom queries, numpy is great for coordinates and matrixes, shapely provides 2D shape analysis, and mathutils provides Vector and Matrix functions."
      ],
      "metadata": {
        "id": "Cmr8OBzECmiG"
      }
    },
    {
      "cell_type": "code",
      "execution_count": null,
      "metadata": {
        "id": "sKmztOKUAnl3"
      },
      "outputs": [],
      "source": [
        "!pip install lark\n",
        "!pip install numpy\n",
        "!pip install shapely\n",
        "!pip install mathutils\n",
        "!pip install ifcopenshell"
      ]
    },
    {
      "cell_type": "markdown",
      "source": [
        "Let's import IfcOpenShell to get started."
      ],
      "metadata": {
        "id": "1-8dvjb2C5dw"
      }
    },
    {
      "cell_type": "code",
      "source": [
        "import ifcopenshell"
      ],
      "metadata": {
        "id": "ltWVeLqrAskk"
      },
      "execution_count": null,
      "outputs": []
    },
    {
      "cell_type": "markdown",
      "source": [
        "We can download a sample model."
      ],
      "metadata": {
        "id": "w0PA1Je3CWK8"
      }
    },
    {
      "cell_type": "code",
      "source": [
        "import requests\n",
        "\n",
        "r = requests.get(\"https://www.ifcwiki.org/images/e/e3/AC20-FZK-Haus.ifc\")\n",
        "with open(\"model.ifc\", \"w\") as f:\n",
        "    f.write(r.text)"
      ],
      "metadata": {
        "id": "hNmyZCwJA6eT"
      },
      "execution_count": null,
      "outputs": []
    },
    {
      "cell_type": "markdown",
      "source": [
        "Let's get started and analyse our model!"
      ],
      "metadata": {
        "id": "uC3oeyjcD5S0"
      }
    },
    {
      "cell_type": "code",
      "source": [
        "model = ifcopenshell.open(\"model.ifc\") # Load our IFC model\n",
        "\n",
        "print(model.schema) # What's the IFC version?\n",
        "print(len(model.by_type(\"IfcWall\"))) # How many walls are there?\n",
        "\n",
        "wall = model.by_type(\"IfcWall\")[0] # Grab an arbitrary wall\n",
        "print(ifcopenshell.util.element.get_psets(wall)) # Get the properties of this particular wall"
      ],
      "metadata": {
        "colab": {
          "base_uri": "https://localhost:8080/"
        },
        "id": "KUGWL4gJA7_i",
        "outputId": "7dfa2aff-6c4b-477b-d348-2e27c38c0da9"
      },
      "execution_count": null,
      "outputs": [
        {
          "output_type": "stream",
          "name": "stdout",
          "text": [
            "IFC4\n",
            "13\n",
            "{'Pset_WallCommon': {'ThermalTransmittance': 1.5, 'id': 15079}, 'AC_Pset_Name': {'Name': 'Wand-Int-ERDG-4', 'id': 15087}, 'ArchiCADProperties': {'Komplette Element-ID': 'Wand-Int-ERDG-4', 'Kompakte Element-ID': 'Wand-Int-ERDG-4', 'Name des Sachmerkmal-Objekts': '', 'Ursprungsgeschoss': 'Erdgeschoss', 'Raumname': 'Wohnen', 'Raumnummer': '5', 'Ebene': 'Innenwände', 'Typ': 'Wand', 'Geschützt': False, 'Baustoff / Mehrschichtiger Aufbau / Profil / Schraffur': 'Leichtbeton 102890359', 'Etikettentext': '', 'Eindeutige ID': 'BC6F0F70-6195-495E-A2FC-239713029DB1', 'Verknüpfte Änderungen': '', 'Tragende Funktion': 'Nicht definiert', 'Lage': 'Nicht definiert', 'Element-Klassifizierung': 'Wand', 'Umbau-Status': 'Bestand', 'Anzeigen auf Umbau-Filter': 'Alle relevanten Filter', 'Struktur - Typ': 'Einfach', 'ARCHICAD IFC ID': '2XPyKWY018sA1ygZKgQPtU', 'Externe IFC ID': '', 'Baustoff/Mehrschicht/Profil': 'Leichtbeton 102890359', 'Außenseite Oberfläche': 'Anstrich', 'Innenseite Oberfläche': 'Anstrich', 'Oberfläche Kante': 'Anstrich', 'Äußerer Neigungswinkel': 90.0, 'Innerer Neigungswinkel': 90.0, 'Wand Neigungstyp': 'gerade', 'Lage der Referenzlinie': 'Außen', 'Geschoss für Oberkantenverknüpfung': 'Nicht verknüpft', 'Geometriemethode': 'Uni', 'id': 15124}, 'BaseQuantities': {'Length': 4.17, 'Height': 2.5, 'Width': 0.24, 'GrossFootprintArea': 1.0008, 'NetFootprintArea': 1.0008, 'GrossSideArea': 10.425, 'NetSideArea': 10.425, 'GrossVolume': 2.49624, 'NetVolume': 2.49624, 'id': 15169}, 'ArchiCADQuantities': {'Höhenangabe zum Projekt-Nullpunkt': 0.0, 'Höhe zu Geschoss': 0.0, 'Höhe': 2.5, 'Oberflächenbereich': 10.125, 'Netto-Volumen': 2.49624, 'Fläche': 1.0008, 'Dicke': 0.24, 'Wandlänge an der Außenseite': 4.05, 'Wandlänge an der Innenseite': 4.29, 'Netto-Oberflächenbereich an der Außenseite': 10.125, 'Netto-Oberflächenbereich an der Innenseite': 10.725, 'Netto-Oberflächenbereich an den Kanten': 3.35824588643, 'Konditionales Volumen': 2.49624, 'Anzahl der Türen': 0.0, 'Anzahl der Fenster': 0.0, 'Anzahl der Durchbrüche (Anzahl der leeren Öffnungen)': 0.0, 'Anzahl der Stützen': 0.0, 'Kombinierte Breite der Türen': 0.0, 'Kombinierte Breite der Fenster': 0.0, 'Wandstärke am Ende': 0.24, 'Minimale Höhe der Wand': 2.26, 'Maximale Höhe der Wand': 2.5, 'Länge der Wand in der Achse': 4.17, 'Fläche der Wand': 1.0008, 'Umfang der Wand': 8.91941125497, 'Brutto-Wandoberflächenbereich an der Innenseite': 10.725, 'Brutto-Wandoberflächenbereich an der Außenseite': 10.125, 'Brutto-Volumen der Wand ': 2.502, 'Analytische Oberfläche der Öffnungen an der Innenseite': 0.0, 'Analytische Oberfläche der Öffnungen an der Außenseite': 0.0, 'Analytisches Volumen der Öffnungen in der Wand': 0.0, 'Wand-Schichtdicke an der Außenseite': 0.0, 'Wand-Schichtdicke an der Innenseite': 0.0, 'Dämmungsschichtdicke': 0.0, 'Luftschichtdicke': 0.0, 'Minimale Höhe der Wandschicht an der Außenseite': 0.0, 'Maximale Höhe der Wandschicht an der Außenseite': 0.0, 'Minimale Höhe der Wandschicht an der Innenseite': 0.0, 'Maximale Höhe der Wandschicht an der Innenseite': 0.0, 'Konditionale Länge an der Außenseite': 4.05, 'Konditionale Länge an der Innenseite': 4.29, 'Konditionaler Oberflächenbereich an der Außenseite': 10.125, 'Konditionaler Oberflächenbereich an der Innenseite': 10.725, 'Wand-Schichtvolumen an der Außenseite': 0.0, 'Wand-Schichtvolumen an der Innenseite': 0.0, 'Konditionales Schichtvolumen an der Außenseite': 0.0, 'Konditionales Wand-Schichtvolumen an der Innenseite': 0.0, 'Länge der Referenzlinie': 4.59, 'Abstand zu Ursprungsgeschoss': 0.0, 'Abstand Oberkante': 0.0, 'Durchschnittliche Länge': 4.17, 'Oberflächenbereich der Fenster in der Wand': 0.0, 'Oberflächenbereich der Türen in der Wand': 0.0, 'Oberflächenbereich der leeren Öffnungen in der Wand': 0.0, 'Volumen der Stützen': 0.0, 'id': 15229}}\n"
          ]
        }
      ]
    }
  ]
}